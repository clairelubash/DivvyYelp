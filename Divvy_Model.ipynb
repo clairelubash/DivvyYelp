{
 "cells": [
  {
   "cell_type": "markdown",
   "metadata": {},
   "source": [
    "# Capstone Project, Claire Lubash #\n",
    "## Divvy Bike Data - Predictive Modeling ##\n",
    "The goal of this project is to utilize the data provided by Divvy Bikes, and then build a model which predicts how long a trip will taken, given a starting and ending destination. Our data involves bike trips taken in Chicago during 2017 and includes these variables:\n",
    "- trip_id\n",
    "- start_time\n",
    "- stop_time\n",
    "- bikeid\n",
    "- tripduration\n",
    "- from_station_name\n",
    "- to_station_name\n",
    "- usertype\n",
    "- gender\n",
    "- birthyear\n",
    "- latitude and longitude for stations\n",
    "\n",
    "With these parameters, along with additional external data such as traffic and weather patterns, we are able to clean, visualize, and analyze the data set. Finally, we can build and improve upon a model for predicting trip durations. "
   ]
  },
  {
   "cell_type": "markdown",
   "metadata": {},
   "source": [
    "## I. Data Preparation & Cleaning\n",
    "- Import the necessary packages and the .csv files provided by Divvy Bike \n",
    "- The files are then merged into one large data frame, which contains the data for all the trips as well as all the stations\n",
    "- Remove redundant columns and clean up headers\n",
    "- Calculate distance and speed, and add to data frame\n",
    "- Change gender and to dummy variable\n",
    "- Change columns to correct data types"
   ]
  },
  {
   "cell_type": "code",
   "execution_count": 1,
   "metadata": {},
   "outputs": [],
   "source": [
    "import numpy as np\n",
    "import pandas as pd\n",
    "import matplotlib.pyplot as plt\n",
    "import seaborn as sea\n",
    "import datetime\n",
    "from datetime import date\n",
    "from math import sin, cos, sqrt, atan2, radians\n",
    "from bokeh.plotting import figure, show, output_notebook\n",
    "from sklearn import linear_model, metrics\n",
    "from sklearn.model_selection import train_test_split, cross_val_predict\n",
    "from sklearn.linear_model import LinearRegression\n",
    "from sklearn.feature_selection import SelectKBest, chi2\n",
    "from sklearn.metrics import mean_squared_error, r2_score\n",
    "from wwo_hist import retrieve_hist_data\n",
    "import folium\n",
    "%matplotlib inline"
   ]
  },
  {
   "cell_type": "code",
   "execution_count": 2,
   "metadata": {},
   "outputs": [],
   "source": [
    "df1 = pd.read_csv('tripq1.csv')\n",
    "df2 = pd.read_csv('tripq2.csv')\n",
    "df3 = pd.read_csv('tripq3.csv')\n",
    "df4 = pd.read_csv('tripq4.csv')\n",
    "\n",
    "dfStat12 = pd.read_csv('stationq1q2.csv')\n",
    "dfStat34 = pd.read_csv('stationq3q4.csv')"
   ]
  },
  {
   "cell_type": "code",
   "execution_count": 3,
   "metadata": {},
   "outputs": [],
   "source": [
    "%%capture\n",
    "df = pd.concat([df1, df2, df3, df4])\n",
    "dfStat = pd.concat([dfStat12,dfStat34],sort=False).drop_duplicates().reset_index(drop=True)\n",
    "dfStat = dfStat.drop(['name','city','dpcapacity','online_date','Unnamed: 7'],axis=1)"
   ]
  },
  {
   "cell_type": "code",
   "execution_count": 4,
   "metadata": {},
   "outputs": [],
   "source": [
    "dfFrom = df.merge(dfStat, left_on = 'from_station_id', right_on = 'id')"
   ]
  },
  {
   "cell_type": "code",
   "execution_count": 5,
   "metadata": {},
   "outputs": [],
   "source": [
    "dfFrom.drop_duplicates(subset = 'trip_id', keep = 'first', inplace = True) "
   ]
  },
  {
   "cell_type": "code",
   "execution_count": 6,
   "metadata": {},
   "outputs": [],
   "source": [
    "dfFrom = pd.merge(df, dfStat, left_on = 'from_station_id', right_on = 'id')\n",
    "dfTo = pd.merge(df, dfStat, left_on = 'to_station_id', right_on = 'id')"
   ]
  },
  {
   "cell_type": "code",
   "execution_count": 7,
   "metadata": {},
   "outputs": [],
   "source": [
    "dfFrom = dfFrom.rename(columns = {'latitude':'start_lat', 'longitude':'start_long'}) \n",
    "dfTo = dfTo.rename(columns = {'latitude':'end_lat', 'longitude':'end_long'})"
   ]
  },
  {
   "cell_type": "code",
   "execution_count": 8,
   "metadata": {},
   "outputs": [],
   "source": [
    "dfFinal = pd.merge(dfFrom, dfTo, on = 'trip_id')"
   ]
  },
  {
   "cell_type": "code",
   "execution_count": 9,
   "metadata": {},
   "outputs": [],
   "source": [
    "dfFinal.drop_duplicates(subset = 'trip_id', keep = 'first', inplace = True)"
   ]
  },
  {
   "cell_type": "code",
   "execution_count": 10,
   "metadata": {},
   "outputs": [],
   "source": [
    "## remove redundant columns\n",
    "\n",
    "dfFinal = dfFinal.drop(['start_time_y','end_time_y','bikeid_y','tripduration_y','from_station_id_y',\n",
    "                        'from_station_name_y','to_station_id_y','to_station_name_y','usertype_y','birthyear_y',\n",
    "                        'gender_y','id_y','id_x'], axis = 1)\n",
    "dfFinal = dfFinal.rename(columns = {'start_time_x':'start_time','end_time_x':'end_time','bikeid_x':'bike_id',\n",
    "                                    'tripduration_x':'trip_duration','from_station_id_x':'from_station_id',\n",
    "                                    'from_station_name_x':'from_station_name','to_station_id_x':'to_station_id',\n",
    "                                    'to_station_name_x':'to_station_name','usertype_x':'user_type',\n",
    "                                    'gender_x':'gender','birthyear_x':'birth_year'})"
   ]
  },
  {
   "cell_type": "code",
   "execution_count": 11,
   "metadata": {},
   "outputs": [],
   "source": [
    "## calculate distance\n",
    "\n",
    "def dist(sla,ela,slo,elo):\n",
    "    \n",
    "    ''' \n",
    "    take in start/end coordinates\n",
    "    implement Haversine formula\n",
    "    return distance in miles\n",
    "    '''\n",
    "    \n",
    "    lat1 = radians(sla)\n",
    "    lat2 = radians(ela)\n",
    "    long1 = radians(slo)\n",
    "    long2 = radians(elo)\n",
    "    lat = lat2 - lat1\n",
    "    long = long2 - long1\n",
    "    \n",
    "    a = sin(lat / 2)**2 + cos(lat1) * cos(lat2) * sin(long / 2)**2\n",
    "    c = (6373*(2 * atan2(sqrt(a), sqrt(1 - a))))*0.621371\n",
    "    \n",
    "    return(c)"
   ]
  },
  {
   "cell_type": "code",
   "execution_count": 12,
   "metadata": {},
   "outputs": [],
   "source": [
    "dfFinal['distance'] = dfFinal.apply(lambda x: dist(x.start_lat,x.end_lat,x.start_long,x.end_long), axis = 1)\n",
    "dfFinal['speed'] = dfFinal.distance/(dfFinal.trip_duration/60)"
   ]
  },
  {
   "cell_type": "code",
   "execution_count": 13,
   "metadata": {},
   "outputs": [
    {
     "name": "stderr",
     "output_type": "stream",
     "text": [
      "/Users/claire.lubash@ibm.com/opt/anaconda3/lib/python3.7/site-packages/ipykernel_launcher.py:4: SettingWithCopyWarning: \n",
      "A value is trying to be set on a copy of a slice from a DataFrame\n",
      "\n",
      "See the caveats in the documentation: https://pandas.pydata.org/pandas-docs/stable/user_guide/indexing.html#returning-a-view-versus-a-copy\n",
      "  after removing the cwd from sys.path.\n",
      "/Users/claire.lubash@ibm.com/opt/anaconda3/lib/python3.7/site-packages/ipykernel_launcher.py:5: SettingWithCopyWarning: \n",
      "A value is trying to be set on a copy of a slice from a DataFrame\n",
      "\n",
      "See the caveats in the documentation: https://pandas.pydata.org/pandas-docs/stable/user_guide/indexing.html#returning-a-view-versus-a-copy\n",
      "  \"\"\"\n"
     ]
    }
   ],
   "source": [
    "## dummy variable for gender\n",
    "\n",
    "dfFinal.gender = dfFinal.gender.fillna(0)\n",
    "dfFinal.gender[dfFinal.gender == 'Male'] = 1\n",
    "dfFinal.gender[dfFinal.gender == 'Female'] = 2\n",
    "\n",
    "## getting correct data types\n",
    "\n",
    "dfFinal.gender = dfFinal.gender.astype(float)\n",
    "dfFinal.trip_id = dfFinal.trip_id.astype(float)\n",
    "dfFinal.bike_id = dfFinal.bike_id.astype(float)\n",
    "dfFinal.trip_duration = dfFinal.trip_duration.astype(float)\n",
    "dfFinal.from_station_id = dfFinal.from_station_id.astype(float)\n",
    "dfFinal.to_station_id = dfFinal.to_station_id.astype(float)"
   ]
  },
  {
   "cell_type": "code",
   "execution_count": 14,
   "metadata": {},
   "outputs": [],
   "source": [
    "dfFinal['start_time'] = pd.to_datetime(dfFinal['start_time'])"
   ]
  },
  {
   "cell_type": "code",
   "execution_count": 15,
   "metadata": {},
   "outputs": [],
   "source": [
    "dfFinal['end_time'] = pd.to_datetime(dfFinal['end_time'])"
   ]
  },
  {
   "cell_type": "markdown",
   "metadata": {},
   "source": [
    "### Adding External Data Sources\n",
    "\n",
    "- Introduce a column to determine whether the trip was taken during rush hour \n",
    "    - Weekdays 7-9:59am, 4-6:59pm \n",
    "- Add in weather data using WorldWeatherOnline historical weather data API wrapper\n",
    "    - Drop irrelevant columns\n",
    "    - Change to correct data types\n",
    "- Merge weather data with current data frame"
   ]
  },
  {
   "cell_type": "code",
   "execution_count": 13,
   "metadata": {},
   "outputs": [],
   "source": [
    "## add rush hour column\n",
    "\n",
    "dfFinal['rush'] = np.where(((dfFinal['start_time'].dt.weekday < 5) & (dfFinal['start_time'].dt.hour > 16) & (dfFinal['start_time'].dt.hour < 19)) | ((dfFinal['start_time'].dt.weekday < 5) & (dfFinal['start_time'].dt.hour > 7) & (dfFinal['start_time'].dt.hour < 10)), '1', '0')\n"
   ]
  },
  {
   "cell_type": "code",
   "execution_count": 14,
   "metadata": {},
   "outputs": [
    {
     "name": "stdout",
     "output_type": "stream",
     "text": [
      "\n",
      "\n",
      "Retrieving weather data for Chicago\n",
      "\n",
      "\n",
      "Currently retrieving data for Chicago: from 2017-01-01 to 2017-01-31\n",
      "Time elapsed (hh:mm:ss.ms) 0:00:00.722836\n",
      "Currently retrieving data for Chicago: from 2017-02-01 to 2017-02-28\n",
      "Time elapsed (hh:mm:ss.ms) 0:00:01.360071\n",
      "Currently retrieving data for Chicago: from 2017-03-01 to 2017-03-31\n",
      "Time elapsed (hh:mm:ss.ms) 0:00:02.090463\n",
      "Currently retrieving data for Chicago: from 2017-04-01 to 2017-04-30\n",
      "Time elapsed (hh:mm:ss.ms) 0:00:02.788316\n",
      "Currently retrieving data for Chicago: from 2017-05-01 to 2017-05-31\n",
      "Time elapsed (hh:mm:ss.ms) 0:00:03.517786\n",
      "Currently retrieving data for Chicago: from 2017-06-01 to 2017-06-30\n",
      "Time elapsed (hh:mm:ss.ms) 0:00:04.190978\n",
      "Currently retrieving data for Chicago: from 2017-07-01 to 2017-07-31\n",
      "Time elapsed (hh:mm:ss.ms) 0:00:04.976326\n",
      "Currently retrieving data for Chicago: from 2017-08-01 to 2017-08-31\n",
      "Time elapsed (hh:mm:ss.ms) 0:00:05.618922\n",
      "Currently retrieving data for Chicago: from 2017-09-01 to 2017-09-30\n",
      "Time elapsed (hh:mm:ss.ms) 0:00:06.274402\n",
      "Currently retrieving data for Chicago: from 2017-10-01 to 2017-10-31\n",
      "Time elapsed (hh:mm:ss.ms) 0:00:07.112976\n",
      "Currently retrieving data for Chicago: from 2017-11-01 to 2017-11-30\n",
      "Time elapsed (hh:mm:ss.ms) 0:00:07.806705\n",
      "Currently retrieving data for Chicago: from 2017-12-01 to 2017-12-31\n",
      "Time elapsed (hh:mm:ss.ms) 0:00:08.449464\n",
      "Currently retrieving data for Chicago: from 2017-12-01 to 2017-12-31\n",
      "Time elapsed (hh:mm:ss.ms) 0:00:09.563449\n",
      "\n",
      "\n",
      "export Chicago completed!\n",
      "\n",
      "\n"
     ]
    }
   ],
   "source": [
    "### wwo-hist api\n",
    "\n",
    "frequency = 24\n",
    "start_date = '01-JAN-2017'\n",
    "end_date = '31-DEC-2017'\n",
    "api_key = '3abb4c87bb0b44b6894181920192908'\n",
    "location_list = ['Chicago']\n",
    "\n",
    "hist_weather_data = retrieve_hist_data(api_key, location_list, start_date, end_date, frequency, location_label = False, export_csv = True, store_df = True)"
   ]
  },
  {
   "cell_type": "code",
   "execution_count": 15,
   "metadata": {},
   "outputs": [
    {
     "data": {
      "text/html": [
       "<div>\n",
       "<style scoped>\n",
       "    .dataframe tbody tr th:only-of-type {\n",
       "        vertical-align: middle;\n",
       "    }\n",
       "\n",
       "    .dataframe tbody tr th {\n",
       "        vertical-align: top;\n",
       "    }\n",
       "\n",
       "    .dataframe thead th {\n",
       "        text-align: right;\n",
       "    }\n",
       "</style>\n",
       "<table border=\"1\" class=\"dataframe\">\n",
       "  <thead>\n",
       "    <tr style=\"text-align: right;\">\n",
       "      <th></th>\n",
       "      <th>date_time</th>\n",
       "      <th>maxtempC</th>\n",
       "      <th>mintempC</th>\n",
       "      <th>totalSnow_cm</th>\n",
       "      <th>sunHour</th>\n",
       "      <th>uvIndex</th>\n",
       "      <th>uvIndex.1</th>\n",
       "      <th>moon_illumination</th>\n",
       "      <th>moonrise</th>\n",
       "      <th>moonset</th>\n",
       "      <th>...</th>\n",
       "      <th>WindChillC</th>\n",
       "      <th>WindGustKmph</th>\n",
       "      <th>cloudcover</th>\n",
       "      <th>humidity</th>\n",
       "      <th>precipMM</th>\n",
       "      <th>pressure</th>\n",
       "      <th>tempC</th>\n",
       "      <th>visibility</th>\n",
       "      <th>winddirDegree</th>\n",
       "      <th>windspeedKmph</th>\n",
       "    </tr>\n",
       "  </thead>\n",
       "  <tbody>\n",
       "    <tr>\n",
       "      <th>0</th>\n",
       "      <td>2017-01-01</td>\n",
       "      <td>3</td>\n",
       "      <td>-3</td>\n",
       "      <td>0.0</td>\n",
       "      <td>8.7</td>\n",
       "      <td>2</td>\n",
       "      <td>2</td>\n",
       "      <td>20</td>\n",
       "      <td>10:23 AM</td>\n",
       "      <td>09:09 PM</td>\n",
       "      <td>...</td>\n",
       "      <td>-4</td>\n",
       "      <td>17</td>\n",
       "      <td>14</td>\n",
       "      <td>67</td>\n",
       "      <td>0.0</td>\n",
       "      <td>1020</td>\n",
       "      <td>3</td>\n",
       "      <td>10</td>\n",
       "      <td>191</td>\n",
       "      <td>12</td>\n",
       "    </tr>\n",
       "    <tr>\n",
       "      <th>1</th>\n",
       "      <td>2017-01-02</td>\n",
       "      <td>3</td>\n",
       "      <td>1</td>\n",
       "      <td>0.0</td>\n",
       "      <td>3.4</td>\n",
       "      <td>1</td>\n",
       "      <td>1</td>\n",
       "      <td>27</td>\n",
       "      <td>10:59 AM</td>\n",
       "      <td>10:12 PM</td>\n",
       "      <td>...</td>\n",
       "      <td>-1</td>\n",
       "      <td>22</td>\n",
       "      <td>75</td>\n",
       "      <td>92</td>\n",
       "      <td>3.1</td>\n",
       "      <td>1019</td>\n",
       "      <td>3</td>\n",
       "      <td>8</td>\n",
       "      <td>96</td>\n",
       "      <td>13</td>\n",
       "    </tr>\n",
       "    <tr>\n",
       "      <th>2</th>\n",
       "      <td>2017-01-03</td>\n",
       "      <td>4</td>\n",
       "      <td>0</td>\n",
       "      <td>0.0</td>\n",
       "      <td>3.4</td>\n",
       "      <td>1</td>\n",
       "      <td>1</td>\n",
       "      <td>34</td>\n",
       "      <td>11:33 AM</td>\n",
       "      <td>11:17 PM</td>\n",
       "      <td>...</td>\n",
       "      <td>-1</td>\n",
       "      <td>24</td>\n",
       "      <td>99</td>\n",
       "      <td>92</td>\n",
       "      <td>0.6</td>\n",
       "      <td>1010</td>\n",
       "      <td>4</td>\n",
       "      <td>4</td>\n",
       "      <td>175</td>\n",
       "      <td>17</td>\n",
       "    </tr>\n",
       "    <tr>\n",
       "      <th>3</th>\n",
       "      <td>2017-01-04</td>\n",
       "      <td>-6</td>\n",
       "      <td>-10</td>\n",
       "      <td>0.0</td>\n",
       "      <td>8.7</td>\n",
       "      <td>2</td>\n",
       "      <td>2</td>\n",
       "      <td>41</td>\n",
       "      <td>12:05 PM</td>\n",
       "      <td>No moonset</td>\n",
       "      <td>...</td>\n",
       "      <td>-17</td>\n",
       "      <td>37</td>\n",
       "      <td>16</td>\n",
       "      <td>63</td>\n",
       "      <td>0.0</td>\n",
       "      <td>1018</td>\n",
       "      <td>-6</td>\n",
       "      <td>10</td>\n",
       "      <td>285</td>\n",
       "      <td>32</td>\n",
       "    </tr>\n",
       "    <tr>\n",
       "      <th>4</th>\n",
       "      <td>2017-01-05</td>\n",
       "      <td>-10</td>\n",
       "      <td>-13</td>\n",
       "      <td>0.1</td>\n",
       "      <td>5.2</td>\n",
       "      <td>1</td>\n",
       "      <td>1</td>\n",
       "      <td>49</td>\n",
       "      <td>12:38 PM</td>\n",
       "      <td>12:23 AM</td>\n",
       "      <td>...</td>\n",
       "      <td>-20</td>\n",
       "      <td>26</td>\n",
       "      <td>87</td>\n",
       "      <td>64</td>\n",
       "      <td>0.1</td>\n",
       "      <td>1020</td>\n",
       "      <td>-10</td>\n",
       "      <td>10</td>\n",
       "      <td>286</td>\n",
       "      <td>22</td>\n",
       "    </tr>\n",
       "  </tbody>\n",
       "</table>\n",
       "<p>5 rows × 25 columns</p>\n",
       "</div>"
      ],
      "text/plain": [
       "    date_time  maxtempC  mintempC  totalSnow_cm  sunHour  uvIndex  uvIndex.1  \\\n",
       "0  2017-01-01         3        -3           0.0      8.7        2          2   \n",
       "1  2017-01-02         3         1           0.0      3.4        1          1   \n",
       "2  2017-01-03         4         0           0.0      3.4        1          1   \n",
       "3  2017-01-04        -6       -10           0.0      8.7        2          2   \n",
       "4  2017-01-05       -10       -13           0.1      5.2        1          1   \n",
       "\n",
       "   moon_illumination  moonrise     moonset  ... WindChillC WindGustKmph  \\\n",
       "0                 20  10:23 AM    09:09 PM  ...         -4           17   \n",
       "1                 27  10:59 AM    10:12 PM  ...         -1           22   \n",
       "2                 34  11:33 AM    11:17 PM  ...         -1           24   \n",
       "3                 41  12:05 PM  No moonset  ...        -17           37   \n",
       "4                 49  12:38 PM    12:23 AM  ...        -20           26   \n",
       "\n",
       "   cloudcover  humidity  precipMM  pressure  tempC  visibility  winddirDegree  \\\n",
       "0          14        67       0.0      1020      3          10            191   \n",
       "1          75        92       3.1      1019      3           8             96   \n",
       "2          99        92       0.6      1010      4           4            175   \n",
       "3          16        63       0.0      1018     -6          10            285   \n",
       "4          87        64       0.1      1020    -10          10            286   \n",
       "\n",
       "   windspeedKmph  \n",
       "0             12  \n",
       "1             13  \n",
       "2             17  \n",
       "3             32  \n",
       "4             22  \n",
       "\n",
       "[5 rows x 25 columns]"
      ]
     },
     "execution_count": 15,
     "metadata": {},
     "output_type": "execute_result"
    }
   ],
   "source": [
    "dfW = pd.read_csv('Chicago.csv')\n",
    "dfW.head()"
   ]
  },
  {
   "cell_type": "code",
   "execution_count": 16,
   "metadata": {},
   "outputs": [
    {
     "data": {
      "text/plain": [
       "Index(['date_time', 'maxtempC', 'mintempC', 'totalSnow_cm', 'sunHour',\n",
       "       'uvIndex', 'uvIndex.1', 'moon_illumination', 'moonrise', 'moonset',\n",
       "       'sunrise', 'sunset', 'DewPointC', 'FeelsLikeC', 'HeatIndexC',\n",
       "       'WindChillC', 'WindGustKmph', 'cloudcover', 'humidity', 'precipMM',\n",
       "       'pressure', 'tempC', 'visibility', 'winddirDegree', 'windspeedKmph'],\n",
       "      dtype='object')"
      ]
     },
     "execution_count": 16,
     "metadata": {},
     "output_type": "execute_result"
    }
   ],
   "source": [
    "dfW.columns"
   ]
  },
  {
   "cell_type": "code",
   "execution_count": 19,
   "metadata": {},
   "outputs": [],
   "source": [
    "## drop unneeded columns\n",
    "\n",
    "# dfW = dfW.drop(['moonrise','moonset','winddirDegree','moon_illumination','sunHour','uvIndex','uvIndex.1','maxtempC','mintempC','sunrise','sunset','DewPointC','FeelsLikeC','HeatIndexC','WindChillC','WindGustKmph','pressure','windspeedKmph'],axis=1)\n",
    "dfW = dfW.drop(['moonrise', 'moonset', 'uvIndex.1', 'moon_illumination', 'winddirDegree', 'WindGustKmph', 'DewPointC', 'maxtempC', 'mintempC', 'sunrise', 'sunset'], axis = 1)\n",
    "\n",
    "## correct data types\n",
    "\n",
    "dfFinal['start_date'] = dfFinal['start_time'].dt.date\n",
    "dfFinal['start_date'] = pd.to_datetime(dfFinal['start_date'])\n",
    "dfW['date_time'] = pd.to_datetime(dfW['date_time'])\n",
    "\n",
    "## calculate age column\n",
    "\n",
    "dfFinal['age'] = datetime.datetime.now().year - dfFinal.birth_year"
   ]
  },
  {
   "cell_type": "code",
   "execution_count": 20,
   "metadata": {},
   "outputs": [],
   "source": [
    "dfFinal = pd.merge(dfFinal, dfW, left_on = 'start_date', right_on = 'date_time')"
   ]
  },
  {
   "cell_type": "markdown",
   "metadata": {},
   "source": [
    "### Additional Cleaning on Merged Data\n",
    "- Remove outliers\n",
    "    - No points outside +/- 2 standard deviations from the mean\n",
    "    - Round up for some cushion\n",
    "- Remove round trips (distance = 0)"
   ]
  },
  {
   "cell_type": "code",
   "execution_count": 21,
   "metadata": {},
   "outputs": [
    {
     "data": {
      "text/html": [
       "<div>\n",
       "<style scoped>\n",
       "    .dataframe tbody tr th:only-of-type {\n",
       "        vertical-align: middle;\n",
       "    }\n",
       "\n",
       "    .dataframe tbody tr th {\n",
       "        vertical-align: top;\n",
       "    }\n",
       "\n",
       "    .dataframe thead th {\n",
       "        text-align: right;\n",
       "    }\n",
       "</style>\n",
       "<table border=\"1\" class=\"dataframe\">\n",
       "  <thead>\n",
       "    <tr style=\"text-align: right;\">\n",
       "      <th></th>\n",
       "      <th>trip_id</th>\n",
       "      <th>bike_id</th>\n",
       "      <th>trip_duration</th>\n",
       "      <th>from_station_id</th>\n",
       "      <th>to_station_id</th>\n",
       "      <th>gender</th>\n",
       "      <th>birth_year</th>\n",
       "      <th>start_lat</th>\n",
       "      <th>start_long</th>\n",
       "      <th>end_lat</th>\n",
       "      <th>...</th>\n",
       "      <th>FeelsLikeC</th>\n",
       "      <th>HeatIndexC</th>\n",
       "      <th>WindChillC</th>\n",
       "      <th>cloudcover</th>\n",
       "      <th>humidity</th>\n",
       "      <th>precipMM</th>\n",
       "      <th>pressure</th>\n",
       "      <th>tempC</th>\n",
       "      <th>visibility</th>\n",
       "      <th>windspeedKmph</th>\n",
       "    </tr>\n",
       "  </thead>\n",
       "  <tbody>\n",
       "    <tr>\n",
       "      <th>count</th>\n",
       "      <td>15807082.00</td>\n",
       "      <td>15807082.00</td>\n",
       "      <td>15807082.00</td>\n",
       "      <td>15807082.00</td>\n",
       "      <td>15807082.00</td>\n",
       "      <td>15807082.00</td>\n",
       "      <td>12434727.00</td>\n",
       "      <td>15807082.00</td>\n",
       "      <td>15807082.00</td>\n",
       "      <td>15807082.00</td>\n",
       "      <td>...</td>\n",
       "      <td>15807082.00</td>\n",
       "      <td>15807082.00</td>\n",
       "      <td>15807082.00</td>\n",
       "      <td>15807082.00</td>\n",
       "      <td>15807082.00</td>\n",
       "      <td>15807082.00</td>\n",
       "      <td>15807082.00</td>\n",
       "      <td>15807082.00</td>\n",
       "      <td>15807082.00</td>\n",
       "      <td>15807082.00</td>\n",
       "    </tr>\n",
       "    <tr>\n",
       "      <th>mean</th>\n",
       "      <td>15340605.23</td>\n",
       "      <td>3434.79</td>\n",
       "      <td>946.51</td>\n",
       "      <td>180.27</td>\n",
       "      <td>180.41</td>\n",
       "      <td>0.98</td>\n",
       "      <td>1981.55</td>\n",
       "      <td>41.90</td>\n",
       "      <td>-87.64</td>\n",
       "      <td>41.90</td>\n",
       "      <td>...</td>\n",
       "      <td>14.82</td>\n",
       "      <td>16.27</td>\n",
       "      <td>14.41</td>\n",
       "      <td>32.25</td>\n",
       "      <td>71.38</td>\n",
       "      <td>2.47</td>\n",
       "      <td>1015.72</td>\n",
       "      <td>18.16</td>\n",
       "      <td>9.65</td>\n",
       "      <td>15.83</td>\n",
       "    </tr>\n",
       "    <tr>\n",
       "      <th>std</th>\n",
       "      <td>1338075.39</td>\n",
       "      <td>1865.89</td>\n",
       "      <td>1558.19</td>\n",
       "      <td>132.53</td>\n",
       "      <td>132.66</td>\n",
       "      <td>0.64</td>\n",
       "      <td>10.89</td>\n",
       "      <td>0.04</td>\n",
       "      <td>0.02</td>\n",
       "      <td>0.04</td>\n",
       "      <td>...</td>\n",
       "      <td>10.52</td>\n",
       "      <td>8.94</td>\n",
       "      <td>10.09</td>\n",
       "      <td>25.21</td>\n",
       "      <td>11.31</td>\n",
       "      <td>5.32</td>\n",
       "      <td>6.02</td>\n",
       "      <td>8.54</td>\n",
       "      <td>0.79</td>\n",
       "      <td>6.05</td>\n",
       "    </tr>\n",
       "    <tr>\n",
       "      <th>min</th>\n",
       "      <td>12979230.00</td>\n",
       "      <td>1.00</td>\n",
       "      <td>60.00</td>\n",
       "      <td>2.00</td>\n",
       "      <td>2.00</td>\n",
       "      <td>0.00</td>\n",
       "      <td>1899.00</td>\n",
       "      <td>41.74</td>\n",
       "      <td>-87.80</td>\n",
       "      <td>41.74</td>\n",
       "      <td>...</td>\n",
       "      <td>-24.00</td>\n",
       "      <td>-15.00</td>\n",
       "      <td>-24.00</td>\n",
       "      <td>0.00</td>\n",
       "      <td>37.00</td>\n",
       "      <td>0.00</td>\n",
       "      <td>998.00</td>\n",
       "      <td>-14.00</td>\n",
       "      <td>4.00</td>\n",
       "      <td>5.00</td>\n",
       "    </tr>\n",
       "    <tr>\n",
       "      <th>25%</th>\n",
       "      <td>14196561.00</td>\n",
       "      <td>1810.00</td>\n",
       "      <td>399.00</td>\n",
       "      <td>74.00</td>\n",
       "      <td>74.00</td>\n",
       "      <td>1.00</td>\n",
       "      <td>1976.00</td>\n",
       "      <td>41.88</td>\n",
       "      <td>-87.65</td>\n",
       "      <td>41.88</td>\n",
       "      <td>...</td>\n",
       "      <td>7.00</td>\n",
       "      <td>9.00</td>\n",
       "      <td>7.00</td>\n",
       "      <td>13.00</td>\n",
       "      <td>62.00</td>\n",
       "      <td>0.00</td>\n",
       "      <td>1012.00</td>\n",
       "      <td>12.00</td>\n",
       "      <td>10.00</td>\n",
       "      <td>11.00</td>\n",
       "    </tr>\n",
       "    <tr>\n",
       "      <th>50%</th>\n",
       "      <td>15346584.00</td>\n",
       "      <td>3592.00</td>\n",
       "      <td>679.00</td>\n",
       "      <td>156.00</td>\n",
       "      <td>156.00</td>\n",
       "      <td>1.00</td>\n",
       "      <td>1985.00</td>\n",
       "      <td>41.89</td>\n",
       "      <td>-87.64</td>\n",
       "      <td>41.89</td>\n",
       "      <td>...</td>\n",
       "      <td>18.00</td>\n",
       "      <td>19.00</td>\n",
       "      <td>18.00</td>\n",
       "      <td>23.00</td>\n",
       "      <td>72.00</td>\n",
       "      <td>0.20</td>\n",
       "      <td>1016.00</td>\n",
       "      <td>21.00</td>\n",
       "      <td>10.00</td>\n",
       "      <td>14.00</td>\n",
       "    </tr>\n",
       "    <tr>\n",
       "      <th>75%</th>\n",
       "      <td>16504182.75</td>\n",
       "      <td>5079.00</td>\n",
       "      <td>1138.00</td>\n",
       "      <td>268.00</td>\n",
       "      <td>268.00</td>\n",
       "      <td>1.00</td>\n",
       "      <td>1990.00</td>\n",
       "      <td>41.92</td>\n",
       "      <td>-87.63</td>\n",
       "      <td>41.92</td>\n",
       "      <td>...</td>\n",
       "      <td>22.00</td>\n",
       "      <td>23.00</td>\n",
       "      <td>22.00</td>\n",
       "      <td>44.00</td>\n",
       "      <td>79.00</td>\n",
       "      <td>2.60</td>\n",
       "      <td>1019.00</td>\n",
       "      <td>25.00</td>\n",
       "      <td>10.00</td>\n",
       "      <td>20.00</td>\n",
       "    </tr>\n",
       "    <tr>\n",
       "      <th>max</th>\n",
       "      <td>17536701.00</td>\n",
       "      <td>6471.00</td>\n",
       "      <td>86338.00</td>\n",
       "      <td>626.00</td>\n",
       "      <td>626.00</td>\n",
       "      <td>2.00</td>\n",
       "      <td>2017.00</td>\n",
       "      <td>42.06</td>\n",
       "      <td>-87.55</td>\n",
       "      <td>42.06</td>\n",
       "      <td>...</td>\n",
       "      <td>30.00</td>\n",
       "      <td>30.00</td>\n",
       "      <td>27.00</td>\n",
       "      <td>100.00</td>\n",
       "      <td>97.00</td>\n",
       "      <td>40.10</td>\n",
       "      <td>1042.00</td>\n",
       "      <td>31.00</td>\n",
       "      <td>10.00</td>\n",
       "      <td>40.00</td>\n",
       "    </tr>\n",
       "  </tbody>\n",
       "</table>\n",
       "<p>8 rows × 27 columns</p>\n",
       "</div>"
      ],
      "text/plain": [
       "          trip_id     bike_id  trip_duration  from_station_id  to_station_id  \\\n",
       "count 15807082.00 15807082.00    15807082.00      15807082.00    15807082.00   \n",
       "mean  15340605.23     3434.79         946.51           180.27         180.41   \n",
       "std    1338075.39     1865.89        1558.19           132.53         132.66   \n",
       "min   12979230.00        1.00          60.00             2.00           2.00   \n",
       "25%   14196561.00     1810.00         399.00            74.00          74.00   \n",
       "50%   15346584.00     3592.00         679.00           156.00         156.00   \n",
       "75%   16504182.75     5079.00        1138.00           268.00         268.00   \n",
       "max   17536701.00     6471.00       86338.00           626.00         626.00   \n",
       "\n",
       "           gender  birth_year   start_lat  start_long     end_lat  ...  \\\n",
       "count 15807082.00 12434727.00 15807082.00 15807082.00 15807082.00  ...   \n",
       "mean         0.98     1981.55       41.90      -87.64       41.90  ...   \n",
       "std          0.64       10.89        0.04        0.02        0.04  ...   \n",
       "min          0.00     1899.00       41.74      -87.80       41.74  ...   \n",
       "25%          1.00     1976.00       41.88      -87.65       41.88  ...   \n",
       "50%          1.00     1985.00       41.89      -87.64       41.89  ...   \n",
       "75%          1.00     1990.00       41.92      -87.63       41.92  ...   \n",
       "max          2.00     2017.00       42.06      -87.55       42.06  ...   \n",
       "\n",
       "       FeelsLikeC  HeatIndexC  WindChillC  cloudcover    humidity    precipMM  \\\n",
       "count 15807082.00 15807082.00 15807082.00 15807082.00 15807082.00 15807082.00   \n",
       "mean        14.82       16.27       14.41       32.25       71.38        2.47   \n",
       "std         10.52        8.94       10.09       25.21       11.31        5.32   \n",
       "min        -24.00      -15.00      -24.00        0.00       37.00        0.00   \n",
       "25%          7.00        9.00        7.00       13.00       62.00        0.00   \n",
       "50%         18.00       19.00       18.00       23.00       72.00        0.20   \n",
       "75%         22.00       23.00       22.00       44.00       79.00        2.60   \n",
       "max         30.00       30.00       27.00      100.00       97.00       40.10   \n",
       "\n",
       "         pressure       tempC  visibility  windspeedKmph  \n",
       "count 15807082.00 15807082.00 15807082.00    15807082.00  \n",
       "mean      1015.72       18.16        9.65          15.83  \n",
       "std          6.02        8.54        0.79           6.05  \n",
       "min        998.00      -14.00        4.00           5.00  \n",
       "25%       1012.00       12.00       10.00          11.00  \n",
       "50%       1016.00       21.00       10.00          14.00  \n",
       "75%       1019.00       25.00       10.00          20.00  \n",
       "max       1042.00       31.00       10.00          40.00  \n",
       "\n",
       "[8 rows x 27 columns]"
      ]
     },
     "execution_count": 21,
     "metadata": {},
     "output_type": "execute_result"
    }
   ],
   "source": [
    "pd.options.display.float_format = '{:.2f}'.format\n",
    "dfFinal.describe()"
   ]
  },
  {
   "cell_type": "code",
   "execution_count": 23,
   "metadata": {},
   "outputs": [],
   "source": [
    "dfFinal = dfFinal.drop(dfFinal.index[(dfFinal['trip_duration'] > 5000)])\n",
    "dfFinal = dfFinal.drop(dfFinal.index[(dfFinal['speed'] > 0.4)])\n",
    "dfFinal = dfFinal.drop(dfFinal.index[(dfFinal['birth_year'] > 2000)])\n",
    "dfFinal = dfFinal.drop(dfFinal.index[(dfFinal['birth_year'] < 1947)])\n",
    "dfFinal = dfFinal.drop(dfFinal.index[(dfFinal['age'] > 60)])\n",
    "dfFinal = dfFinal.drop(dfFinal.index[(dfFinal['age'] < 15)])"
   ]
  },
  {
   "cell_type": "code",
   "execution_count": 42,
   "metadata": {},
   "outputs": [],
   "source": [
    "dfFinal = dfFinal.drop(dfFinal.index[(dfFinal['distance'] == 0)])"
   ]
  },
  {
   "cell_type": "code",
   "execution_count": 22,
   "metadata": {},
   "outputs": [
    {
     "data": {
      "text/plain": [
       "age                 0.21\n",
       "birth_year          0.21\n",
       "windspeedKmph       0.00\n",
       "distance            0.00\n",
       "end_lat             0.00\n",
       "start_long          0.00\n",
       "start_lat           0.00\n",
       "gender              0.00\n",
       "user_type           0.00\n",
       "to_station_name     0.00\n",
       "to_station_id       0.00\n",
       "from_station_name   0.00\n",
       "from_station_id     0.00\n",
       "trip_duration       0.00\n",
       "bike_id             0.00\n",
       "end_time            0.00\n",
       "start_time          0.00\n",
       "end_long            0.00\n",
       "speed               0.00\n",
       "visibility          0.00\n",
       "rush                0.00\n",
       "start_date          0.00\n",
       "date_time           0.00\n",
       "totalSnow_cm        0.00\n",
       "sunHour             0.00\n",
       "uvIndex             0.00\n",
       "FeelsLikeC          0.00\n",
       "HeatIndexC          0.00\n",
       "WindChillC          0.00\n",
       "cloudcover          0.00\n",
       "humidity            0.00\n",
       "precipMM            0.00\n",
       "pressure            0.00\n",
       "tempC               0.00\n",
       "trip_id             0.00\n",
       "dtype: float64"
      ]
     },
     "execution_count": 22,
     "metadata": {},
     "output_type": "execute_result"
    }
   ],
   "source": [
    "## calculate percentage of missing data\n",
    "\n",
    "(dfFinal.isnull().sum() / len(dfFinal)).sort_values(ascending=False)"
   ]
  },
  {
   "cell_type": "markdown",
   "metadata": {},
   "source": [
    "## II. Data Visualizations"
   ]
  },
  {
   "cell_type": "markdown",
   "metadata": {},
   "source": [
    "### 1. Top 5 Stations with Most Starts\n",
    "We see that the most popular starting station is Streeter Drive & Grand Avenue, with ~341,000 starts during 2017. Below, is another visual which depicts the geographic locations of the top five most popular stations on a map of Chicago. "
   ]
  },
  {
   "cell_type": "code",
   "execution_count": 23,
   "metadata": {},
   "outputs": [],
   "source": [
    "counts = dfFinal['from_station_name'].value_counts()\n",
    "counts = counts[:5,]"
   ]
  },
  {
   "cell_type": "code",
   "execution_count": 24,
   "metadata": {},
   "outputs": [],
   "source": [
    "dfCounts = counts.to_frame('counts')"
   ]
  },
  {
   "cell_type": "code",
   "execution_count": 25,
   "metadata": {},
   "outputs": [
    {
     "data": {
      "image/png": "[encoded data removed]",
      "text/plain": [
       "<Figure size 432x288 with 1 Axes>"
      ]
     },
     "metadata": {
      "needs_background": "light"
     },
     "output_type": "display_data"
    }
   ],
   "source": [
    "splot = sea.barplot(counts.index, counts.values)\n",
    "plt.title('Most Popular Starting Stations')\n",
    "plt.ylabel('Number of Starts')\n",
    "plt.xlabel('Station Name')\n",
    "plt.xticks(rotation=60)\n",
    "plt.ylim(0, 400000)\n",
    "for p in splot.patches:\n",
    "    splot.annotate(format(p.get_height(), '.2f'), (p.get_x() + p.get_width() / 2., p.get_height()), ha = 'center', va = 'center', xytext = (0, 10), textcoords = 'offset points')\n",
    "plt.show()"
   ]
  },
  {
   "cell_type": "code",
   "execution_count": 22,
   "metadata": {},
   "outputs": [],
   "source": [
    "dfMap = dfFinal.loc[dfFinal['from_station_name'] == 'Streeter Dr & Grand Ave']\n",
    "dfMap = dfFinal.loc[(dfFinal['from_station_name'] == 'Streeter Dr & Grand Ave') | (dfFinal['from_station_name'] == 'Clinton St & Washington Blvd') | (dfFinal['from_station_name'] == 'Canal St & Adams St') | (dfFinal['from_station_name'] == 'Lake Shore Dr & Monroe St') | (dfFinal['from_station_name'] == 'Lake Shore Dr & North Blvd')]\n",
    "dfMap = dfMap.drop_duplicates('from_station_name')"
   ]
  },
  {
   "cell_type": "code",
   "execution_count": 23,
   "metadata": {
    "scrolled": false
   },
   "outputs": [
    {
     "data": {
      "text/html": [
       "<div style=\"width:100%;\"><div style=\"position:relative;width:100%;height:0;padding-bottom:60%;\"><iframe src=\"data:text/html;charset=utf-8;base64,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\" style=\"position:absolute;width:100%;height:100%;left:0;top:0;border:none !important;\" allowfullscreen webkitallowfullscreen mozallowfullscreen></iframe></div></div>"
      ],
      "text/plain": [
       "<folium.folium.Map at 0x1c193e2f98>"
      ]
     },
     "execution_count": 23,
     "metadata": {},
     "output_type": "execute_result"
    }
   ],
   "source": [
    "m = folium.Map(location = [41.8781, -87.6298], zoom_start = 12)\n",
    "for i in range(0,len(dfMap)):\n",
    "    folium.Marker([dfMap.iloc[i]['start_lat'], dfMap.iloc[i]['start_long']], popup = dfMap.iloc[i]['from_station_name']).add_to(m)\n",
    "m    "
   ]
  },
  {
   "cell_type": "markdown",
   "metadata": {},
   "source": [
    "### 2.1 Average Trip Duration by User Type\n",
    "We see that customers are taking longer trips on average than subscribers. The boxplot below also confirms that there is a larger distribution of trip lengths amongst customers, rather than subscribers. "
   ]
  },
  {
   "cell_type": "code",
   "execution_count": 28,
   "metadata": {},
   "outputs": [],
   "source": [
    "dfUser = dfFinal.groupby('user_type', as_index=False)['trip_duration'].mean()\n",
    "dfUserMed = dfFinal.groupby('user_type', as_index=False)['trip_duration'].median()\n",
    "dfUserSum = dfFinal.groupby('user_type', as_index=False)['trip_duration'].sum()\n",
    "dfUserCount = dfFinal.groupby('user_type', as_index=False)['trip_duration'].count()\n",
    "dfUserSum['trip_duration'] = dfUserSum['trip_duration']/3600"
   ]
  },
  {
   "cell_type": "code",
   "execution_count": 29,
   "metadata": {},
   "outputs": [
    {
     "data": {
      "image/png": "[encoded data removed]",
      "text/plain": [
       "<Figure size 432x288 with 1 Axes>"
      ]
     },
     "metadata": {
      "needs_background": "light"
     },
     "output_type": "display_data"
    }
   ],
   "source": [
    "splot2 = sea.barplot(dfUser.user_type, dfUser.trip_duration)\n",
    "plt.title('Average Length of Trip by User')\n",
    "plt.ylabel('Trip Duration (seconds)')\n",
    "plt.xlabel('User Type')\n",
    "for p in splot2.patches:\n",
    "    splot2.annotate(format(p.get_height(), '.2f'), (p.get_x() + p.get_width() / 2., p.get_height()), ha = 'center', va = 'center', xytext = (0, 10), textcoords = 'offset points')\n",
    "plt.ylim(0,1700)\n",
    "plt.show()"
   ]
  },
  {
   "cell_type": "markdown",
   "metadata": {},
   "source": [
    "### 2.2 Median Trip Duration by User Type"
   ]
  },
  {
   "cell_type": "code",
   "execution_count": 30,
   "metadata": {},
   "outputs": [
    {
     "data": {
      "image/png": "[encoded data removed]",
      "text/plain": [
       "<Figure size 432x288 with 1 Axes>"
      ]
     },
     "metadata": {
      "needs_background": "light"
     },
     "output_type": "display_data"
    }
   ],
   "source": [
    "splot21 = sea.barplot(dfUserMed.user_type, dfUserMed.trip_duration)\n",
    "plt.title('Median Length of Trip by User')\n",
    "plt.ylabel('Trip Duration (seconds)')\n",
    "plt.xlabel('User Type')\n",
    "for p in splot21.patches:\n",
    "    splot21.annotate(format(p.get_height(), '.2f'), (p.get_x() + p.get_width() / 2., p.get_height()), ha = 'center', va = 'center', xytext = (0, 10), textcoords = 'offset points')\n",
    "plt.ylim(0,1700)\n",
    "plt.show()"
   ]
  },
  {
   "cell_type": "markdown",
   "metadata": {},
   "source": [
    "### 2.3 Total Trip Hours by User Type"
   ]
  },
  {
   "cell_type": "code",
   "execution_count": 31,
   "metadata": {},
   "outputs": [
    {
     "data": {
      "image/png": "[encoded data removed]",
      "text/plain": [
       "<Figure size 432x288 with 1 Axes>"
      ]
     },
     "metadata": {
      "needs_background": "light"
     },
     "output_type": "display_data"
    }
   ],
   "source": [
    "splotTrip = sea.barplot(dfUserSum.user_type, dfUserSum.trip_duration)\n",
    "plt.title('Total Trip Hours by User')\n",
    "plt.ylabel('Trip Duration (Hours)')\n",
    "plt.xlabel('User Type')\n",
    "for p in splotTrip.patches:\n",
    "    splotTrip.annotate(format(p.get_height(), '.2f'), (p.get_x() + p.get_width() / 2., p.get_height()), ha = 'center', va = 'center', xytext = (0, 10), textcoords = 'offset points')\n",
    "plt.ylim(0,2500000)\n",
    "plt.show()"
   ]
  },
  {
   "cell_type": "markdown",
   "metadata": {},
   "source": [
    "### 2.4 Total Trips by User Type"
   ]
  },
  {
   "cell_type": "code",
   "execution_count": 33,
   "metadata": {},
   "outputs": [
    {
     "data": {
      "image/png": "[encoded data removed]",
      "text/plain": [
       "<Figure size 432x288 with 1 Axes>"
      ]
     },
     "metadata": {
      "needs_background": "light"
     },
     "output_type": "display_data"
    }
   ],
   "source": [
    "splotTrip = sea.barplot(dfUserCount.user_type, dfUserCount.trip_duration)\n",
    "plt.title('Total Number of Trips by User')\n",
    "plt.ylabel('Trips')\n",
    "plt.xlabel('User Type')\n",
    "for p in splotTrip.patches:\n",
    "    splotTrip.annotate(format(p.get_height(), '.2f'), (p.get_x() + p.get_width() / 2., p.get_height()), ha = 'center', va = 'center', xytext = (0, 10), textcoords = 'offset points')\n",
    "plt.ylim(0,13500000)\n",
    "plt.show()"
   ]
  },
  {
   "cell_type": "code",
   "execution_count": 32,
   "metadata": {},
   "outputs": [
    {
     "data": {
      "image/png": "[encoded data removed]",
      "text/plain": [
       "<Figure size 432x288 with 1 Axes>"
      ]
     },
     "metadata": {
      "needs_background": "light"
     },
     "output_type": "display_data"
    }
   ],
   "source": [
    "sea.boxplot(dfFinal.trip_duration, dfFinal.user_type, fliersize = 0, order = ['Customer','Dependent','Subscriber'])\n",
    "plt.title('Average Length of Trip by User')\n",
    "plt.ylabel('User Type')\n",
    "plt.xlabel('Trip Duration (seconds)')\n",
    "plt.xlim(0,4000)\n",
    "plt.show()"
   ]
  },
  {
   "cell_type": "markdown",
   "metadata": {},
   "source": [
    "### 3. Most Popular Trips\n",
    "We see that the most popular trip is starting at Lake Shore Drive & Monroe Street and ending at Streeter Drive & Grand Avenue. "
   ]
  },
  {
   "cell_type": "code",
   "execution_count": 95,
   "metadata": {},
   "outputs": [],
   "source": [
    "dfTrips = dfFinal.groupby(['from_station_name','to_station_name']).size().reset_index(name = 'NumberOfTrips').sort_values('NumberOfTrips', ascending = False)"
   ]
  },
  {
   "cell_type": "code",
   "execution_count": 96,
   "metadata": {},
   "outputs": [
    {
     "data": {
      "text/html": [
       "<div>\n",
       "<style scoped>\n",
       "    .dataframe tbody tr th:only-of-type {\n",
       "        vertical-align: middle;\n",
       "    }\n",
       "\n",
       "    .dataframe tbody tr th {\n",
       "        vertical-align: top;\n",
       "    }\n",
       "\n",
       "    .dataframe thead th {\n",
       "        text-align: right;\n",
       "    }\n",
       "</style>\n",
       "<table border=\"1\" class=\"dataframe\">\n",
       "  <thead>\n",
       "    <tr style=\"text-align: right;\">\n",
       "      <th></th>\n",
       "      <th>from_station_name</th>\n",
       "      <th>to_station_name</th>\n",
       "      <th>NumberOfTrips</th>\n",
       "    </tr>\n",
       "  </thead>\n",
       "  <tbody>\n",
       "    <tr>\n",
       "      <th>49476</th>\n",
       "      <td>Lake Shore Dr &amp; Monroe St</td>\n",
       "      <td>Streeter Dr &amp; Grand Ave</td>\n",
       "      <td>48040</td>\n",
       "    </tr>\n",
       "    <tr>\n",
       "      <th>85839</th>\n",
       "      <td>Streeter Dr &amp; Grand Ave</td>\n",
       "      <td>Theater on the Lake</td>\n",
       "      <td>32612</td>\n",
       "    </tr>\n",
       "    <tr>\n",
       "      <th>85696</th>\n",
       "      <td>Streeter Dr &amp; Grand Ave</td>\n",
       "      <td>Lake Shore Dr &amp; North Blvd</td>\n",
       "      <td>31748</td>\n",
       "    </tr>\n",
       "    <tr>\n",
       "      <th>49806</th>\n",
       "      <td>Lake Shore Dr &amp; North Blvd</td>\n",
       "      <td>Streeter Dr &amp; Grand Ave</td>\n",
       "      <td>28700</td>\n",
       "    </tr>\n",
       "    <tr>\n",
       "      <th>85695</th>\n",
       "      <td>Streeter Dr &amp; Grand Ave</td>\n",
       "      <td>Lake Shore Dr &amp; Monroe St</td>\n",
       "      <td>28440</td>\n",
       "    </tr>\n",
       "  </tbody>\n",
       "</table>\n",
       "</div>"
      ],
      "text/plain": [
       "                from_station_name             to_station_name  NumberOfTrips\n",
       "49476   Lake Shore Dr & Monroe St     Streeter Dr & Grand Ave          48040\n",
       "85839     Streeter Dr & Grand Ave         Theater on the Lake          32612\n",
       "85696     Streeter Dr & Grand Ave  Lake Shore Dr & North Blvd          31748\n",
       "49806  Lake Shore Dr & North Blvd     Streeter Dr & Grand Ave          28700\n",
       "85695     Streeter Dr & Grand Ave   Lake Shore Dr & Monroe St          28440"
      ]
     },
     "execution_count": 96,
     "metadata": {},
     "output_type": "execute_result"
    }
   ],
   "source": [
    "dfTrips.head()"
   ]
  },
  {
   "cell_type": "code",
   "execution_count": 35,
   "metadata": {},
   "outputs": [
    {
     "data": {
      "image/png": "[encoded data removed]",
      "text/plain": [
       "<Figure size 432x288 with 1 Axes>"
      ]
     },
     "metadata": {
      "needs_background": "light"
     },
     "output_type": "display_data"
    }
   ],
   "source": [
    "sea.barplot(dfTrips.NumberOfTrips[:5,],(dfTrips.from_station_name[:5,] + ' to ' + dfTrips.to_station_name[:5,]), orient='h')\n",
    "plt.title('Most Popular Trips')\n",
    "plt.ylabel('Start and Stop Stations')\n",
    "plt.xlabel('Frequency')\n",
    "plt.show()"
   ]
  },
  {
   "cell_type": "markdown",
   "metadata": {},
   "source": [
    "### 4.1 Average Distance Traveled by Gender and Age \n",
    "We see that on average, men are traveling faster than women, but women are traveling longer distances. "
   ]
  },
  {
   "cell_type": "code",
   "execution_count": null,
   "metadata": {},
   "outputs": [],
   "source": [
    "## used to calculate speeds and distances for specific age and gender\n",
    "\n",
    "now = dfFinal[(dfFinal['gender'] == 2) & (dfFinal['age'] >= 25) & (dfFinal['age'] < 35)]\n",
    "print((now.speed.median())*60)\n",
    "print(now.distance.mean())"
   ]
  },
  {
   "cell_type": "code",
   "execution_count": 34,
   "metadata": {
    "scrolled": true
   },
   "outputs": [
    {
     "data": {
      "image/png": "[encoded data removed]",
      "text/plain": [
       "<Figure size 432x288 with 1 Axes>"
      ]
     },
     "metadata": {
      "needs_background": "light"
     },
     "output_type": "display_data"
    }
   ],
   "source": [
    "dfFinal.groupby(['age','gender']).mean()['distance'].unstack().plot(color = ('tab:blue', 'tab:orange', 'tab:blue'))\n",
    "plt.xlim(10,80)\n",
    "plt.title('Average Distance Traveled Based on Gender and Age')\n",
    "plt.xlabel('Age (years)')\n",
    "plt.ylabel('Distance (miles)')\n",
    "plt.legend(['Female','Male'] , title = 'Gender')\n",
    "plt.xlim(18,60)\n",
    "plt.ylim(0.6,1.6)\n",
    "plt.show()"
   ]
  },
  {
   "cell_type": "markdown",
   "metadata": {},
   "source": [
    "### 4.2 Median Travel Speed by Gender and Age "
   ]
  },
  {
   "cell_type": "code",
   "execution_count": 37,
   "metadata": {},
   "outputs": [
    {
     "data": {
      "image/png": "[encoded data removed]",
      "text/plain": [
       "<Figure size 432x288 with 1 Axes>"
      ]
     },
     "metadata": {
      "needs_background": "light"
     },
     "output_type": "display_data"
    }
   ],
   "source": [
    "dfFinal.groupby(['age','gender']).median()['speed'].unstack().plot(color = ('tab:blue', 'tab:orange', 'tab:blue'))\n",
    "plt.xlim(10,80)\n",
    "plt.title('Median Travel Speed Based on Gender and Age')\n",
    "plt.xlabel('Age (years)')\n",
    "plt.ylabel('Speed (miles/min)')\n",
    "plt.legend(['Female', 'Male'], title = 'Gender')\n",
    "plt.xlim(18,60)\n",
    "plt.ylim(0.04,0.14)\n",
    "plt.show()"
   ]
  },
  {
   "cell_type": "markdown",
   "metadata": {},
   "source": [
    "### 5.1 Busiest Bike by Number of Uses\n",
    "Bike #2565 is the busiest bike in Chicago based on both number of uses and number of minutes."
   ]
  },
  {
   "cell_type": "code",
   "execution_count": 38,
   "metadata": {},
   "outputs": [],
   "source": [
    "dfBikeUse = dfFinal.groupby('bike_id').size().reset_index(name = 'TimesUsed').sort_values('TimesUsed', ascending = False)"
   ]
  },
  {
   "cell_type": "code",
   "execution_count": 48,
   "metadata": {},
   "outputs": [
    {
     "data": {
      "image/png": "[encoded data removed]",
      "text/plain": [
       "<Figure size 432x288 with 1 Axes>"
      ]
     },
     "metadata": {
      "needs_background": "light"
     },
     "output_type": "display_data"
    }
   ],
   "source": [
    "splot3 = sea.barplot(('Bike ' + dfBikeUse.bike_id[:5,].astype(str)), dfBikeUse.TimesUsed[:5,])\n",
    "plt.title('Busiest Bike by Number of Uses')\n",
    "plt.ylabel('Times Used')\n",
    "plt.xlabel('Bike ID')\n",
    "for p in splot3.patches:\n",
    "    splot3.annotate(format(p.get_height(), '.2f'), (p.get_x() + p.get_width() / 2., p.get_height()), ha = 'center', va = 'center', xytext = (0, 10), textcoords = 'offset points')\n",
    "plt.ylim(0,7000)\n",
    "plt.show()"
   ]
  },
  {
   "cell_type": "markdown",
   "metadata": {},
   "source": [
    "### 5.2 Busiest Bike by Number of Minutes"
   ]
  },
  {
   "cell_type": "code",
   "execution_count": 40,
   "metadata": {},
   "outputs": [],
   "source": [
    "dfBikeMin = dfFinal.groupby('bike_id')['trip_duration'].sum().reset_index(name = 'minutes').sort_values('minutes', ascending = False)\n",
    "dfBikeMin.minutes = round((dfBikeMin.minutes)/60,2)"
   ]
  },
  {
   "cell_type": "code",
   "execution_count": 50,
   "metadata": {},
   "outputs": [
    {
     "data": {
      "image/png": "[encoded data removed]",
      "text/plain": [
       "<Figure size 432x288 with 1 Axes>"
      ]
     },
     "metadata": {
      "needs_background": "light"
     },
     "output_type": "display_data"
    }
   ],
   "source": [
    "splot4 = sea.barplot(('Bike ' + dfBikeMin.bike_id[:5,].astype(str)), dfBikeMin.minutes[:5,])\n",
    "plt.title('Busiest Bike by Minutes in Use')\n",
    "plt.ylabel('Minutes Used')\n",
    "plt.xlabel('Bike ID')\n",
    "for p in splot4.patches:\n",
    "    splot4.annotate(format(p.get_height(), '.2f'), (p.get_x() + p.get_width() / 2., p.get_height()), ha = 'center', va = 'center', xytext = (0, 10), textcoords = 'offset points')\n",
    "plt.ylim(0,95000)\n",
    "plt.show()"
   ]
  },
  {
   "cell_type": "markdown",
   "metadata": {},
   "source": [
    "## III. Model"
   ]
  },
  {
   "cell_type": "markdown",
   "metadata": {},
   "source": [
    "### 1. Assumptions\n",
    "We start by assuming some basic ideas to ensure the feasibility of our model. \n",
    " 1. When a passenger inputs a destination in the kiosk, we have access to their personal information (age, gender, user) either by manual input or an account registration. \n",
    " 2. The inputted destination is a known ending station. \n",
    " 3. The customer stays in the greater Chicago area. "
   ]
  },
  {
   "cell_type": "markdown",
   "metadata": {},
   "source": [
    "### 2. Baseline Model\n",
    "- We begin with a simple approach for our base model, implementing an ordinary linear regression. \n",
    "- We once again clean up our data first, by dropping unneeded columns and converting user type to a dummy variable.\n",
    "- We also had about 0.2% of our age data as missing, so we replace those null values with the mean of the inputted ages. \n",
    "- Then we split our data into training and testing data sets, with our target variable being trip_duration. \n",
    "- We fit the model and output the accuracy. \n",
    "    - Our model predicts with about 0.59 accuracy, so we will explore other options in order to imporve this score. "
   ]
  },
  {
   "cell_type": "code",
   "execution_count": 26,
   "metadata": {},
   "outputs": [],
   "source": [
    "## dropping irrelevant columns\n",
    "\n",
    "dfModel = dfFinal.drop(['trip_id','bike_id','from_station_id','to_station_id','end_time','birth_year','start_lat','start_long','end_lat','end_long'],axis=1)\n",
    "dfModel = dfModel.drop(['start_time','from_station_name','to_station_name','speed','start_date','date_time'], axis=1)\n",
    "dfModel[\"age\"].fillna(dfFinal.age.mean(), inplace = True)"
   ]
  },
  {
   "cell_type": "code",
   "execution_count": 27,
   "metadata": {},
   "outputs": [
    {
     "name": "stderr",
     "output_type": "stream",
     "text": [
      "//anaconda3/lib/python3.7/site-packages/ipykernel_launcher.py:3: SettingWithCopyWarning: \n",
      "A value is trying to be set on a copy of a slice from a DataFrame\n",
      "\n",
      "See the caveats in the documentation: http://pandas.pydata.org/pandas-docs/stable/indexing.html#indexing-view-versus-copy\n",
      "  This is separate from the ipykernel package so we can avoid doing imports until\n",
      "//anaconda3/lib/python3.7/site-packages/ipykernel_launcher.py:4: SettingWithCopyWarning: \n",
      "A value is trying to be set on a copy of a slice from a DataFrame\n",
      "\n",
      "See the caveats in the documentation: http://pandas.pydata.org/pandas-docs/stable/indexing.html#indexing-view-versus-copy\n",
      "  after removing the cwd from sys.path.\n",
      "//anaconda3/lib/python3.7/site-packages/ipykernel_launcher.py:5: SettingWithCopyWarning: \n",
      "A value is trying to be set on a copy of a slice from a DataFrame\n",
      "\n",
      "See the caveats in the documentation: http://pandas.pydata.org/pandas-docs/stable/indexing.html#indexing-view-versus-copy\n",
      "  \"\"\"\n"
     ]
    }
   ],
   "source": [
    "## user type to dummy variable\n",
    "\n",
    "dfModel.user_type[dfModel.user_type == 'Subscriber'] = 0\n",
    "dfModel.user_type[dfModel.user_type == 'Customer'] = 1\n",
    "dfModel.user_type[dfModel.user_type == 'Dependent'] = 2"
   ]
  },
  {
   "cell_type": "code",
   "execution_count": 30,
   "metadata": {},
   "outputs": [
    {
     "data": {
      "text/html": [
       "<div>\n",
       "<style scoped>\n",
       "    .dataframe tbody tr th:only-of-type {\n",
       "        vertical-align: middle;\n",
       "    }\n",
       "\n",
       "    .dataframe tbody tr th {\n",
       "        vertical-align: top;\n",
       "    }\n",
       "\n",
       "    .dataframe thead th {\n",
       "        text-align: right;\n",
       "    }\n",
       "</style>\n",
       "<table border=\"1\" class=\"dataframe\">\n",
       "  <thead>\n",
       "    <tr style=\"text-align: right;\">\n",
       "      <th></th>\n",
       "      <th>trip_duration</th>\n",
       "      <th>user_type</th>\n",
       "      <th>gender</th>\n",
       "      <th>distance</th>\n",
       "      <th>rush</th>\n",
       "      <th>age</th>\n",
       "      <th>totalSnow_cm</th>\n",
       "      <th>sunHour</th>\n",
       "      <th>uvIndex</th>\n",
       "      <th>FeelsLikeC</th>\n",
       "      <th>HeatIndexC</th>\n",
       "      <th>WindChillC</th>\n",
       "      <th>cloudcover</th>\n",
       "      <th>humidity</th>\n",
       "      <th>precipMM</th>\n",
       "      <th>pressure</th>\n",
       "      <th>tempC</th>\n",
       "      <th>visibility</th>\n",
       "      <th>windspeedKmph</th>\n",
       "    </tr>\n",
       "  </thead>\n",
       "  <tbody>\n",
       "    <tr>\n",
       "      <th>0</th>\n",
       "      <td>857.00</td>\n",
       "      <td>0</td>\n",
       "      <td>1.00</td>\n",
       "      <td>2.20</td>\n",
       "      <td>0</td>\n",
       "      <td>30.00</td>\n",
       "      <td>0.00</td>\n",
       "      <td>6.40</td>\n",
       "      <td>1</td>\n",
       "      <td>-2</td>\n",
       "      <td>3</td>\n",
       "      <td>-2</td>\n",
       "      <td>88</td>\n",
       "      <td>90</td>\n",
       "      <td>0.70</td>\n",
       "      <td>1010</td>\n",
       "      <td>3</td>\n",
       "      <td>9</td>\n",
       "      <td>24</td>\n",
       "    </tr>\n",
       "    <tr>\n",
       "      <th>1</th>\n",
       "      <td>857.00</td>\n",
       "      <td>0</td>\n",
       "      <td>1.00</td>\n",
       "      <td>2.20</td>\n",
       "      <td>0</td>\n",
       "      <td>30.00</td>\n",
       "      <td>0.00</td>\n",
       "      <td>6.40</td>\n",
       "      <td>1</td>\n",
       "      <td>-2</td>\n",
       "      <td>3</td>\n",
       "      <td>-2</td>\n",
       "      <td>88</td>\n",
       "      <td>90</td>\n",
       "      <td>0.70</td>\n",
       "      <td>1010</td>\n",
       "      <td>3</td>\n",
       "      <td>9</td>\n",
       "      <td>24</td>\n",
       "    </tr>\n",
       "    <tr>\n",
       "      <th>2</th>\n",
       "      <td>857.00</td>\n",
       "      <td>0</td>\n",
       "      <td>1.00</td>\n",
       "      <td>2.20</td>\n",
       "      <td>0</td>\n",
       "      <td>30.00</td>\n",
       "      <td>0.00</td>\n",
       "      <td>6.40</td>\n",
       "      <td>1</td>\n",
       "      <td>-2</td>\n",
       "      <td>3</td>\n",
       "      <td>-2</td>\n",
       "      <td>88</td>\n",
       "      <td>90</td>\n",
       "      <td>0.70</td>\n",
       "      <td>1010</td>\n",
       "      <td>3</td>\n",
       "      <td>9</td>\n",
       "      <td>24</td>\n",
       "    </tr>\n",
       "    <tr>\n",
       "      <th>3</th>\n",
       "      <td>857.00</td>\n",
       "      <td>0</td>\n",
       "      <td>1.00</td>\n",
       "      <td>2.20</td>\n",
       "      <td>0</td>\n",
       "      <td>30.00</td>\n",
       "      <td>0.00</td>\n",
       "      <td>6.40</td>\n",
       "      <td>1</td>\n",
       "      <td>-2</td>\n",
       "      <td>3</td>\n",
       "      <td>-2</td>\n",
       "      <td>88</td>\n",
       "      <td>90</td>\n",
       "      <td>0.70</td>\n",
       "      <td>1010</td>\n",
       "      <td>3</td>\n",
       "      <td>9</td>\n",
       "      <td>24</td>\n",
       "    </tr>\n",
       "    <tr>\n",
       "      <th>4</th>\n",
       "      <td>128.00</td>\n",
       "      <td>0</td>\n",
       "      <td>1.00</td>\n",
       "      <td>0.33</td>\n",
       "      <td>0</td>\n",
       "      <td>35.00</td>\n",
       "      <td>0.00</td>\n",
       "      <td>6.40</td>\n",
       "      <td>1</td>\n",
       "      <td>-2</td>\n",
       "      <td>3</td>\n",
       "      <td>-2</td>\n",
       "      <td>88</td>\n",
       "      <td>90</td>\n",
       "      <td>0.70</td>\n",
       "      <td>1010</td>\n",
       "      <td>3</td>\n",
       "      <td>9</td>\n",
       "      <td>24</td>\n",
       "    </tr>\n",
       "  </tbody>\n",
       "</table>\n",
       "</div>"
      ],
      "text/plain": [
       "   trip_duration user_type  gender  distance rush   age  totalSnow_cm  \\\n",
       "0         857.00         0    1.00      2.20    0 30.00          0.00   \n",
       "1         857.00         0    1.00      2.20    0 30.00          0.00   \n",
       "2         857.00         0    1.00      2.20    0 30.00          0.00   \n",
       "3         857.00         0    1.00      2.20    0 30.00          0.00   \n",
       "4         128.00         0    1.00      0.33    0 35.00          0.00   \n",
       "\n",
       "   sunHour  uvIndex  FeelsLikeC  HeatIndexC  WindChillC  cloudcover  humidity  \\\n",
       "0     6.40        1          -2           3          -2          88        90   \n",
       "1     6.40        1          -2           3          -2          88        90   \n",
       "2     6.40        1          -2           3          -2          88        90   \n",
       "3     6.40        1          -2           3          -2          88        90   \n",
       "4     6.40        1          -2           3          -2          88        90   \n",
       "\n",
       "   precipMM  pressure  tempC  visibility  windspeedKmph  \n",
       "0      0.70      1010      3           9             24  \n",
       "1      0.70      1010      3           9             24  \n",
       "2      0.70      1010      3           9             24  \n",
       "3      0.70      1010      3           9             24  \n",
       "4      0.70      1010      3           9             24  "
      ]
     },
     "execution_count": 30,
     "metadata": {},
     "output_type": "execute_result"
    }
   ],
   "source": [
    "dfModel.head()"
   ]
  },
  {
   "cell_type": "code",
   "execution_count": 31,
   "metadata": {},
   "outputs": [],
   "source": [
    "## split into training and testing\n",
    "\n",
    "x = dfModel.iloc[:,1:11]\n",
    "y = dfModel.iloc[:,0]\n",
    "\n",
    "x_train, x_test, y_train, y_test = train_test_split(x, y, test_size = 0.2, random_state = 0)"
   ]
  },
  {
   "cell_type": "code",
   "execution_count": 43,
   "metadata": {},
   "outputs": [
    {
     "name": "stdout",
     "output_type": "stream",
     "text": [
      "\n",
      "Accuracy: 0.5865027462315744\n",
      "\n",
      "Mean Absolute Error: 232.20723803460967\n"
     ]
    }
   ],
   "source": [
    "reg = LinearRegression().fit(x_train, y_train)\n",
    "y_pred = reg.predict(x_test)\n",
    "print('\\nAccuracy:', reg.score(x_test, y_test))\n",
    "print('\\nMean Absolute Error:', metrics.mean_absolute_error(y_test, y_pred))"
   ]
  },
  {
   "cell_type": "markdown",
   "metadata": {},
   "source": [
    "### 3. Second Model\n",
    "- We can now explore another method of regression, Lasso Regression. \n",
    "- We fit the model and notice no improvement on the prediction. "
   ]
  },
  {
   "cell_type": "code",
   "execution_count": 45,
   "metadata": {},
   "outputs": [],
   "source": [
    "clf = linear_model.Lasso(alpha=0.1)\n",
    "clf.fit(x_train, y_train)\n",
    "y_pred_lasso = clf.predict(x_test)"
   ]
  },
  {
   "cell_type": "code",
   "execution_count": 46,
   "metadata": {},
   "outputs": [
    {
     "name": "stdout",
     "output_type": "stream",
     "text": [
      "\n",
      "Accuracy: 0.5864991637670534\n",
      "\n",
      "Mean Absolute Error: 232.21640878535345\n"
     ]
    }
   ],
   "source": [
    "print('\\nAccuracy:', clf.score(x_test, y_test))\n",
    "print('\\nMean Absolute Error:', metrics.mean_absolute_error(y_test, y_pred_lasso))"
   ]
  },
  {
   "cell_type": "markdown",
   "metadata": {},
   "source": [
    "### 4. Feature Importance\n",
    "- Since the previous models had much room for improvement, we will look into which features are most impactful on trip duration, and re-run our model while using only those variables. \n",
    "- The below visualiztion shows that distance, gender, temperature, and cloud cover have the most impact on trip duration. "
   ]
  },
  {
   "cell_type": "code",
   "execution_count": 47,
   "metadata": {},
   "outputs": [
    {
     "data": {
      "text/plain": [
       "trip_duration    1.00\n",
       "gender          -0.36\n",
       "distance         0.62\n",
       "age             -0.00\n",
       "totalSnow_cm    -0.04\n",
       "sunHour          0.18\n",
       "uvIndex          0.17\n",
       "FeelsLikeC       0.17\n",
       "HeatIndexC       0.17\n",
       "WindChillC       0.17\n",
       "cloudcover      -0.14\n",
       "humidity         0.00\n",
       "precipMM         0.00\n",
       "pressure        -0.03\n",
       "tempC            0.17\n",
       "visibility       0.04\n",
       "windspeedKmph   -0.08\n",
       "Name: trip_duration, dtype: float64"
      ]
     },
     "execution_count": 47,
     "metadata": {},
     "output_type": "execute_result"
    }
   ],
   "source": [
    "dfModel.corr().loc[:,'trip_duration']"
   ]
  },
  {
   "cell_type": "code",
   "execution_count": 51,
   "metadata": {
    "scrolled": true
   },
   "outputs": [
    {
     "data": {
      "image/png": "[encoded data removed]",
      "text/plain": [
       "<Figure size 864x720 with 2 Axes>"
      ]
     },
     "metadata": {
      "needs_background": "light"
     },
     "output_type": "display_data"
    }
   ],
   "source": [
    "plt.figure(figsize=(12,10))\n",
    "cor = dfModel[['trip_duration', 'gender', 'distance', 'sunHour', 'uvIndex', 'FeelsLikeC', 'HeatIndexC', 'WindChillC', 'cloudcover', 'tempC']].corr()\n",
    "sea.heatmap(cor, annot=True, cmap=plt.cm.Reds)\n",
    "plt.show()"
   ]
  },
  {
   "cell_type": "code",
   "execution_count": 49,
   "metadata": {},
   "outputs": [
    {
     "data": {
      "text/plain": [
       "trip_duration   1.00\n",
       "gender          0.36\n",
       "distance        0.62\n",
       "sunHour         0.18\n",
       "uvIndex         0.17\n",
       "FeelsLikeC      0.17\n",
       "HeatIndexC      0.17\n",
       "WindChillC      0.17\n",
       "cloudcover      0.14\n",
       "tempC           0.17\n",
       "Name: trip_duration, dtype: float64"
      ]
     },
     "execution_count": 49,
     "metadata": {},
     "output_type": "execute_result"
    }
   ],
   "source": [
    "cor_target = abs(cor[\"trip_duration\"])\n",
    "relevant_features = cor_target[cor_target>0.1]\n",
    "relevant_features"
   ]
  },
  {
   "cell_type": "code",
   "execution_count": 52,
   "metadata": {},
   "outputs": [
    {
     "data": {
      "text/html": [
       "<div>\n",
       "<style scoped>\n",
       "    .dataframe tbody tr th:only-of-type {\n",
       "        vertical-align: middle;\n",
       "    }\n",
       "\n",
       "    .dataframe tbody tr th {\n",
       "        vertical-align: top;\n",
       "    }\n",
       "\n",
       "    .dataframe thead th {\n",
       "        text-align: right;\n",
       "    }\n",
       "</style>\n",
       "<table border=\"1\" class=\"dataframe\">\n",
       "  <thead>\n",
       "    <tr style=\"text-align: right;\">\n",
       "      <th></th>\n",
       "      <th>trip_duration</th>\n",
       "      <th>user_type</th>\n",
       "      <th>gender</th>\n",
       "      <th>distance</th>\n",
       "      <th>rush</th>\n",
       "      <th>age</th>\n",
       "      <th>totalSnow_cm</th>\n",
       "      <th>sunHour</th>\n",
       "      <th>uvIndex</th>\n",
       "      <th>FeelsLikeC</th>\n",
       "      <th>HeatIndexC</th>\n",
       "      <th>WindChillC</th>\n",
       "      <th>cloudcover</th>\n",
       "      <th>humidity</th>\n",
       "      <th>precipMM</th>\n",
       "      <th>pressure</th>\n",
       "      <th>tempC</th>\n",
       "      <th>visibility</th>\n",
       "      <th>windspeedKmph</th>\n",
       "    </tr>\n",
       "  </thead>\n",
       "  <tbody>\n",
       "    <tr>\n",
       "      <th>0</th>\n",
       "      <td>857.00</td>\n",
       "      <td>0</td>\n",
       "      <td>1.00</td>\n",
       "      <td>2.20</td>\n",
       "      <td>0</td>\n",
       "      <td>30.00</td>\n",
       "      <td>0.00</td>\n",
       "      <td>6.40</td>\n",
       "      <td>1</td>\n",
       "      <td>-2</td>\n",
       "      <td>3</td>\n",
       "      <td>-2</td>\n",
       "      <td>88</td>\n",
       "      <td>90</td>\n",
       "      <td>0.70</td>\n",
       "      <td>1010</td>\n",
       "      <td>3</td>\n",
       "      <td>9</td>\n",
       "      <td>24</td>\n",
       "    </tr>\n",
       "    <tr>\n",
       "      <th>1</th>\n",
       "      <td>857.00</td>\n",
       "      <td>0</td>\n",
       "      <td>1.00</td>\n",
       "      <td>2.20</td>\n",
       "      <td>0</td>\n",
       "      <td>30.00</td>\n",
       "      <td>0.00</td>\n",
       "      <td>6.40</td>\n",
       "      <td>1</td>\n",
       "      <td>-2</td>\n",
       "      <td>3</td>\n",
       "      <td>-2</td>\n",
       "      <td>88</td>\n",
       "      <td>90</td>\n",
       "      <td>0.70</td>\n",
       "      <td>1010</td>\n",
       "      <td>3</td>\n",
       "      <td>9</td>\n",
       "      <td>24</td>\n",
       "    </tr>\n",
       "    <tr>\n",
       "      <th>2</th>\n",
       "      <td>857.00</td>\n",
       "      <td>0</td>\n",
       "      <td>1.00</td>\n",
       "      <td>2.20</td>\n",
       "      <td>0</td>\n",
       "      <td>30.00</td>\n",
       "      <td>0.00</td>\n",
       "      <td>6.40</td>\n",
       "      <td>1</td>\n",
       "      <td>-2</td>\n",
       "      <td>3</td>\n",
       "      <td>-2</td>\n",
       "      <td>88</td>\n",
       "      <td>90</td>\n",
       "      <td>0.70</td>\n",
       "      <td>1010</td>\n",
       "      <td>3</td>\n",
       "      <td>9</td>\n",
       "      <td>24</td>\n",
       "    </tr>\n",
       "    <tr>\n",
       "      <th>3</th>\n",
       "      <td>857.00</td>\n",
       "      <td>0</td>\n",
       "      <td>1.00</td>\n",
       "      <td>2.20</td>\n",
       "      <td>0</td>\n",
       "      <td>30.00</td>\n",
       "      <td>0.00</td>\n",
       "      <td>6.40</td>\n",
       "      <td>1</td>\n",
       "      <td>-2</td>\n",
       "      <td>3</td>\n",
       "      <td>-2</td>\n",
       "      <td>88</td>\n",
       "      <td>90</td>\n",
       "      <td>0.70</td>\n",
       "      <td>1010</td>\n",
       "      <td>3</td>\n",
       "      <td>9</td>\n",
       "      <td>24</td>\n",
       "    </tr>\n",
       "    <tr>\n",
       "      <th>4</th>\n",
       "      <td>128.00</td>\n",
       "      <td>0</td>\n",
       "      <td>1.00</td>\n",
       "      <td>0.33</td>\n",
       "      <td>0</td>\n",
       "      <td>35.00</td>\n",
       "      <td>0.00</td>\n",
       "      <td>6.40</td>\n",
       "      <td>1</td>\n",
       "      <td>-2</td>\n",
       "      <td>3</td>\n",
       "      <td>-2</td>\n",
       "      <td>88</td>\n",
       "      <td>90</td>\n",
       "      <td>0.70</td>\n",
       "      <td>1010</td>\n",
       "      <td>3</td>\n",
       "      <td>9</td>\n",
       "      <td>24</td>\n",
       "    </tr>\n",
       "  </tbody>\n",
       "</table>\n",
       "</div>"
      ],
      "text/plain": [
       "   trip_duration user_type  gender  distance rush   age  totalSnow_cm  \\\n",
       "0         857.00         0    1.00      2.20    0 30.00          0.00   \n",
       "1         857.00         0    1.00      2.20    0 30.00          0.00   \n",
       "2         857.00         0    1.00      2.20    0 30.00          0.00   \n",
       "3         857.00         0    1.00      2.20    0 30.00          0.00   \n",
       "4         128.00         0    1.00      0.33    0 35.00          0.00   \n",
       "\n",
       "   sunHour  uvIndex  FeelsLikeC  HeatIndexC  WindChillC  cloudcover  humidity  \\\n",
       "0     6.40        1          -2           3          -2          88        90   \n",
       "1     6.40        1          -2           3          -2          88        90   \n",
       "2     6.40        1          -2           3          -2          88        90   \n",
       "3     6.40        1          -2           3          -2          88        90   \n",
       "4     6.40        1          -2           3          -2          88        90   \n",
       "\n",
       "   precipMM  pressure  tempC  visibility  windspeedKmph  \n",
       "0      0.70      1010      3           9             24  \n",
       "1      0.70      1010      3           9             24  \n",
       "2      0.70      1010      3           9             24  \n",
       "3      0.70      1010      3           9             24  \n",
       "4      0.70      1010      3           9             24  "
      ]
     },
     "execution_count": 52,
     "metadata": {},
     "output_type": "execute_result"
    }
   ],
   "source": [
    "dfModel.head()"
   ]
  },
  {
   "cell_type": "markdown",
   "metadata": {},
   "source": [
    "### 5. Adjusted Linear Model\n",
    "- We drop the variables that were not highlighted in the above analysis of feature importance. \n",
    "- We re-run our regression model. \n",
    "    - The model still shows no improvement."
   ]
  },
  {
   "cell_type": "code",
   "execution_count": 54,
   "metadata": {},
   "outputs": [],
   "source": [
    "dfAdj = dfModel.drop(['humidity', 'precipMM', 'age', 'totalSnow_cm', 'visibility', 'pressure', 'windspeedKmph'], axis = 1)"
   ]
  },
  {
   "cell_type": "code",
   "execution_count": 56,
   "metadata": {},
   "outputs": [],
   "source": [
    "x2 = dfAdj.iloc[:,1:11]\n",
    "y2 = dfAdj.iloc[:,0]\n",
    "\n",
    "x_train2, x_test2, y_train2, y_test2 = train_test_split(x2, y2, test_size = 0.2, random_state = 0)"
   ]
  },
  {
   "cell_type": "code",
   "execution_count": 57,
   "metadata": {},
   "outputs": [
    {
     "name": "stdout",
     "output_type": "stream",
     "text": [
      "\n",
      "Accuracy: 0.5863265812257032\n"
     ]
    }
   ],
   "source": [
    "regAdj = LinearRegression().fit(x_train2, y_train2)\n",
    "print('\\nAccuracy:', regAdj.score(x_test2, y_test2))"
   ]
  },
  {
   "cell_type": "markdown",
   "metadata": {},
   "source": [
    "### 6. Further Analysis\n",
    "- Since feature importance still did not improve the model, we investigate further into the data. \n",
    "- Distance was ranked as the most impactful feature on trip duration, so we plot distance vs. duration to see what the data looks like\n",
    "    - We see an abnormally large amount of the data falls into the category of really short distance taking a really long time. This would be a strong reason why the models cannot reach a prediction accuracy above 60%. \n",
    "    - Unfortunately, there is way too much of this type of data to omit it entirely from the model. "
   ]
  },
  {
   "cell_type": "code",
   "execution_count": 45,
   "metadata": {},
   "outputs": [
    {
     "data": {
      "image/png": "[encoded data removed]",
      "text/plain": [
       "<Figure size 432x288 with 1 Axes>"
      ]
     },
     "metadata": {
      "needs_background": "light"
     },
     "output_type": "display_data"
    }
   ],
   "source": [
    "sea.scatterplot(x = \"distance\", y = \"trip_duration\", data = dfFinal)\n",
    "plt.xlabel('Distance (miles)')\n",
    "plt.ylabel('Duration (seconds)')\n",
    "plt.title('Distance Traveled vs. Time Duration')\n",
    "plt.show()"
   ]
  }
 ],
 "metadata": {
  "kernelspec": {
   "display_name": "Python 3",
   "language": "python",
   "name": "python3"
  },
  "language_info": {
   "codemirror_mode": {
    "name": "ipython",
    "version": 3
   },
   "file_extension": ".py",
   "mimetype": "text/x-python",
   "name": "python",
   "nbconvert_exporter": "python",
   "pygments_lexer": "ipython3",
   "version": "3.7.6"
  }
 },
 "nbformat": 4,
 "nbformat_minor": 2
}
